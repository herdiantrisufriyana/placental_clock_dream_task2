{
 "cells": [
  {
   "cell_type": "markdown",
   "id": "6d61cb50-4c1b-4fed-8d28-bed5e3769ff2",
   "metadata": {},
   "source": [
    "# Programming environment"
   ]
  },
  {
   "cell_type": "code",
   "execution_count": null,
   "id": "fa371021-7867-4c5e-bf60-33d896f9aab0",
   "metadata": {},
   "outputs": [],
   "source": [
    "seed = 2024-6-10"
   ]
  },
  {
   "cell_type": "code",
   "execution_count": null,
   "id": "7407a22f-b1b7-41eb-a2fa-cbca797867cc",
   "metadata": {},
   "outputs": [],
   "source": [
    "from sklearn.metrics import mean_squared_error, make_scorer, precision_score"
   ]
  },
  {
   "cell_type": "code",
   "execution_count": null,
   "id": "0481526d-b4e3-4c59-bb51-237379c99c0b",
   "metadata": {},
   "outputs": [],
   "source": [
    "from utils import train_and_save_model, load_and_predict, load_and_predict_probabilities, save_model_coefficients"
   ]
  },
  {
   "cell_type": "code",
   "execution_count": null,
   "id": "247d3a05-1301-4b2c-8ea5-40dd47d5f990",
   "metadata": {},
   "outputs": [],
   "source": [
    "from sklearn.ensemble import RandomForestClassifier, RandomForestRegressor\n",
    "from sklearn.linear_model import ElasticNet, LogisticRegression\n",
    "\n",
    "# Define models and their parameter grids\n",
    "models_and_params = {\n",
    "    'RandomForestClassifier': {\n",
    "        'model': RandomForestClassifier(random_state=seed),\n",
    "        'param_grid': {\n",
    "            'n_estimators': [50, 100, 200],\n",
    "            'max_depth': [None, 10, 20],\n",
    "            'min_samples_split': [2, 5, 10]\n",
    "        }\n",
    "    },\n",
    "    'RandomForestRegressor': {\n",
    "        'model': RandomForestRegressor(random_state=seed),\n",
    "        'param_grid': {\n",
    "            'n_estimators': [50, 100, 200],\n",
    "            'max_depth': [None, 10, 20],\n",
    "            'min_samples_split': [2, 5, 10]\n",
    "        }\n",
    "    },\n",
    "    'ElasticNet': {\n",
    "        'model': ElasticNet(random_state=seed, max_iter=100000),\n",
    "        'param_grid': {\n",
    "            'alpha': [0.01, 0.1, 1, 10],\n",
    "            'l1_ratio': [0.2, 0.5, 0.8]\n",
    "        }\n",
    "    },\n",
    "    'LogisticElasticNet': {\n",
    "        'model': LogisticRegression(penalty='elasticnet', solver='saga', l1_ratio=0.5, random_state=seed, max_iter=10000),\n",
    "        'param_grid': {\n",
    "            'C': [0.01, 0.1, 1, 10],\n",
    "            'l1_ratio': [0.1, 0.5, 0.9]  # Adjusting l1_ratio close to 1 acts like LASSO, close to 0 acts like Ridge\n",
    "        }\n",
    "    }\n",
    "}"
   ]
  },
  {
   "cell_type": "markdown",
   "id": "2317c87f-24d2-47ac-a635-85bb8f8b73c3",
   "metadata": {},
   "source": [
    "# Phenotype preprocessing"
   ]
  },
  {
   "cell_type": "markdown",
   "id": "f8d70ff6-9483-4138-aa3c-9b1070601349",
   "metadata": {},
   "source": [
    "## Phenotype imputation for conditions"
   ]
  },
  {
   "cell_type": "markdown",
   "id": "499086b4-478c-4beb-9419-8ebf30acefda",
   "metadata": {},
   "source": [
    "### FGR imputation"
   ]
  },
  {
   "cell_type": "code",
   "execution_count": null,
   "id": "0824ab47-8b75-4126-97d7-4844ac83344e",
   "metadata": {},
   "outputs": [],
   "source": [
    "prefix = 'fgr_imp'\n",
    "model_name = 'RandomForestClassifier'\n",
    "train_and_save_model(prefix, seed, models_and_params[model_name])"
   ]
  },
  {
   "cell_type": "code",
   "execution_count": null,
   "id": "9326c3a5-9f9c-43eb-830b-30c3497bcf86",
   "metadata": {},
   "outputs": [],
   "source": [
    "prefix = 'fgr_imp'\n",
    "load_and_predict(prefix)"
   ]
  },
  {
   "cell_type": "markdown",
   "id": "666ea6cf-1287-493e-a9ef-35fe164f4c52",
   "metadata": {},
   "source": [
    "### PE imputation"
   ]
  },
  {
   "cell_type": "code",
   "execution_count": null,
   "id": "7442bf7c-1430-41b0-bd81-873ceb4776cf",
   "metadata": {},
   "outputs": [],
   "source": [
    "prefix = 'pe_imp'\n",
    "model_name = 'RandomForestClassifier'\n",
    "train_and_save_model(prefix, seed, models_and_params[model_name])"
   ]
  },
  {
   "cell_type": "code",
   "execution_count": null,
   "id": "58602688-6110-4ec4-9c8b-92651e0e0d12",
   "metadata": {},
   "outputs": [],
   "source": [
    "prefix = 'pe_imp'\n",
    "load_and_predict(prefix)"
   ]
  },
  {
   "cell_type": "markdown",
   "id": "3b4d42d2-e62c-47a9-a1df-4589494285d8",
   "metadata": {},
   "source": [
    "### PE onset imputation"
   ]
  },
  {
   "cell_type": "code",
   "execution_count": null,
   "id": "7e58874b-7f96-4a3d-a1e7-c470db36b0e7",
   "metadata": {},
   "outputs": [],
   "source": [
    "prefix = 'pe_onset_imp'\n",
    "model_name = 'RandomForestClassifier'\n",
    "train_and_save_model(prefix, seed, models_and_params[model_name])"
   ]
  },
  {
   "cell_type": "code",
   "execution_count": null,
   "id": "612c55e7-8296-437a-8dc3-393c5305a8b4",
   "metadata": {},
   "outputs": [],
   "source": [
    "prefix = 'pe_onset_imp'\n",
    "load_and_predict(prefix)"
   ]
  },
  {
   "cell_type": "markdown",
   "id": "bda6d898-84af-4743-9382-14419aa3693b",
   "metadata": {},
   "source": [
    "### HELLP imputation"
   ]
  },
  {
   "cell_type": "code",
   "execution_count": null,
   "id": "5a01a39d-2be1-4156-9cb1-56e175b917c9",
   "metadata": {},
   "outputs": [],
   "source": [
    "prefix = 'hellp_imp'\n",
    "model_name = 'RandomForestClassifier'\n",
    "custom_precision = make_scorer(precision_score, zero_division=0)\n",
    "train_and_save_model(prefix, seed, models_and_params[model_name], cv=3, scoring=custom_precision)"
   ]
  },
  {
   "cell_type": "code",
   "execution_count": null,
   "id": "5cd049ad-546e-4b06-9cf1-bfa9c91506bd",
   "metadata": {},
   "outputs": [],
   "source": [
    "prefix = 'hellp_imp'\n",
    "load_and_predict(prefix)"
   ]
  },
  {
   "cell_type": "markdown",
   "id": "8723d1f6-f0ea-48a0-9813-65c15dd11bd0",
   "metadata": {},
   "source": [
    "### Diandric triploid imputation"
   ]
  },
  {
   "cell_type": "code",
   "execution_count": null,
   "id": "86d8e1ee-596a-4edd-9b1e-2b00ccc66704",
   "metadata": {},
   "outputs": [],
   "source": [
    "prefix = 'diandric_triploid_imp'\n",
    "model_name = 'RandomForestClassifier'\n",
    "custom_precision = make_scorer(precision_score, zero_division=0)\n",
    "train_and_save_model(prefix, seed, models_and_params[model_name], cv=2, scoring=custom_precision)"
   ]
  },
  {
   "cell_type": "code",
   "execution_count": null,
   "id": "a998f336-be70-4e58-9db3-54392127108a",
   "metadata": {},
   "outputs": [],
   "source": [
    "prefix = 'diandric_triploid_imp'\n",
    "load_and_predict(prefix)"
   ]
  },
  {
   "cell_type": "markdown",
   "id": "d263ce42-2066-4180-ab30-52dc917a34b5",
   "metadata": {},
   "source": [
    "### Miscarriage imputation"
   ]
  },
  {
   "cell_type": "code",
   "execution_count": null,
   "id": "38fe6cf5-b5d5-4de0-a4d9-4ef243ae1ad7",
   "metadata": {},
   "outputs": [],
   "source": [
    "prefix = 'miscarriage_imp'\n",
    "model_name = 'RandomForestClassifier'\n",
    "custom_precision = make_scorer(precision_score, zero_division=0)\n",
    "train_and_save_model(prefix, seed, models_and_params[model_name], cv=3, scoring=custom_precision)"
   ]
  },
  {
   "cell_type": "code",
   "execution_count": null,
   "id": "0aaba2c2-cdcf-4186-8594-41d0246eead8",
   "metadata": {},
   "outputs": [],
   "source": [
    "prefix = 'miscarriage_imp'\n",
    "load_and_predict(prefix)"
   ]
  },
  {
   "cell_type": "markdown",
   "id": "76635bd1-7150-47bc-861a-0eedcd6afa7b",
   "metadata": {},
   "source": [
    "### Preterm imputation"
   ]
  },
  {
   "cell_type": "code",
   "execution_count": null,
   "id": "c65a058c-f869-41de-b8e6-cd561e970e6f",
   "metadata": {},
   "outputs": [],
   "source": [
    "prefix = 'preterm_imp'\n",
    "model_name = 'RandomForestClassifier'\n",
    "train_and_save_model(prefix, seed, models_and_params[model_name])"
   ]
  },
  {
   "cell_type": "code",
   "execution_count": null,
   "id": "dd185b3d-6a06-430c-9320-0a8fd6f1a913",
   "metadata": {},
   "outputs": [],
   "source": [
    "prefix = 'preterm_imp'\n",
    "load_and_predict(prefix)"
   ]
  },
  {
   "cell_type": "markdown",
   "id": "7dfe7b30-bbef-4fe7-aea4-bde686d81c1d",
   "metadata": {},
   "source": [
    "### GDM imputation"
   ]
  },
  {
   "cell_type": "code",
   "execution_count": null,
   "id": "00603191-7f3d-4516-83f7-dfa6806767c2",
   "metadata": {},
   "outputs": [],
   "source": [
    "prefix = 'gdm_imp'\n",
    "model_name = 'RandomForestClassifier'\n",
    "custom_precision = make_scorer(precision_score, zero_division=0)\n",
    "train_and_save_model(prefix, seed, models_and_params[model_name], cv=5, scoring=custom_precision)"
   ]
  },
  {
   "cell_type": "code",
   "execution_count": null,
   "id": "2293a94d-eb61-408e-913b-289359d2e061",
   "metadata": {},
   "outputs": [],
   "source": [
    "prefix = 'gdm_imp'\n",
    "load_and_predict(prefix)"
   ]
  },
  {
   "cell_type": "markdown",
   "id": "d1c37685-6a50-4d10-ab9c-f1f155047162",
   "metadata": {},
   "source": [
    "### SGA imputation"
   ]
  },
  {
   "cell_type": "code",
   "execution_count": null,
   "id": "2fe7dafa-414b-4928-b7ad-55e90bc4ac75",
   "metadata": {},
   "outputs": [],
   "source": [
    "prefix = 'sga_imp'\n",
    "model_name = 'RandomForestClassifier'\n",
    "custom_precision = make_scorer(precision_score, zero_division=0)\n",
    "train_and_save_model(prefix, seed, models_and_params[model_name], cv=5, scoring=custom_precision)"
   ]
  },
  {
   "cell_type": "code",
   "execution_count": null,
   "id": "26c3ae97-2b62-4a46-9108-60375fbe868e",
   "metadata": {},
   "outputs": [],
   "source": [
    "prefix = 'sga_imp'\n",
    "load_and_predict(prefix)"
   ]
  },
  {
   "cell_type": "markdown",
   "id": "11dcbef1-f38a-430d-80bf-b0a86ea66561",
   "metadata": {},
   "source": [
    "### LGA imputation"
   ]
  },
  {
   "cell_type": "code",
   "execution_count": null,
   "id": "9064c8e2-d2f8-41ac-ac97-2c48d3d00b63",
   "metadata": {},
   "outputs": [],
   "source": [
    "prefix = 'lga_imp'\n",
    "model_name = 'RandomForestClassifier'\n",
    "train_and_save_model(prefix, seed, models_and_params[model_name])"
   ]
  },
  {
   "cell_type": "code",
   "execution_count": null,
   "id": "19ee0efd-9947-419d-b2b6-790a9c81a860",
   "metadata": {},
   "outputs": [],
   "source": [
    "prefix = 'lga_imp'\n",
    "load_and_predict(prefix)"
   ]
  },
  {
   "cell_type": "markdown",
   "id": "6251e0a9-5552-467e-8296-904d4d451e05",
   "metadata": {},
   "source": [
    "### SLGA imputation"
   ]
  },
  {
   "cell_type": "code",
   "execution_count": null,
   "id": "8caf07e8-b521-4d6e-b719-a72a62f1e3f2",
   "metadata": {},
   "outputs": [],
   "source": [
    "prefix = 'slga_imp'\n",
    "model_name = 'RandomForestClassifier'\n",
    "custom_precision = make_scorer(precision_score, zero_division=0)\n",
    "train_and_save_model(prefix, seed, models_and_params[model_name], cv=5, scoring=custom_precision)"
   ]
  },
  {
   "cell_type": "code",
   "execution_count": null,
   "id": "56949b6d-4213-4405-9ffe-5a2765716806",
   "metadata": {},
   "outputs": [],
   "source": [
    "prefix = 'slga_imp'\n",
    "load_and_predict(prefix)"
   ]
  },
  {
   "cell_type": "markdown",
   "id": "f88a987b-3308-4ed8-8c00-4e817f084368",
   "metadata": {},
   "source": [
    "### IVF imputation"
   ]
  },
  {
   "cell_type": "code",
   "execution_count": null,
   "id": "310d0d1a-ea26-4afa-bed0-e201ab98fc2d",
   "metadata": {},
   "outputs": [],
   "source": [
    "prefix = 'ivf_imp'\n",
    "model_name = 'RandomForestClassifier'\n",
    "custom_precision = make_scorer(precision_score, zero_division=0)\n",
    "train_and_save_model(prefix, seed, models_and_params[model_name], cv=5, scoring=custom_precision)"
   ]
  },
  {
   "cell_type": "code",
   "execution_count": null,
   "id": "cc8ae1c8-c34c-4df1-ad47-fa7e84d623c1",
   "metadata": {},
   "outputs": [],
   "source": [
    "prefix = 'ivf_imp'\n",
    "load_and_predict(prefix)"
   ]
  },
  {
   "cell_type": "markdown",
   "id": "6fef2443-a8c2-4b1c-a1bf-e375b1028135",
   "metadata": {},
   "source": [
    "### Subfertility imputation"
   ]
  },
  {
   "cell_type": "code",
   "execution_count": null,
   "id": "c25c2374-9386-4549-9bc9-528f52962cf5",
   "metadata": {},
   "outputs": [],
   "source": [
    "prefix = 'subfertility_imp'\n",
    "model_name = 'RandomForestClassifier'\n",
    "custom_precision = make_scorer(precision_score, zero_division=0)\n",
    "train_and_save_model(prefix, seed, models_and_params[model_name], cv=5, scoring=custom_precision)"
   ]
  },
  {
   "cell_type": "code",
   "execution_count": null,
   "id": "e8657d54-67ce-4a83-acb8-49c2f99eb76f",
   "metadata": {},
   "outputs": [],
   "source": [
    "prefix = 'subfertility_imp'\n",
    "load_and_predict(prefix)"
   ]
  },
  {
   "cell_type": "markdown",
   "id": "62c53328-8189-4adb-95ab-eb587e4c1d03",
   "metadata": {},
   "source": [
    "### Chorioamnionitis imputation"
   ]
  },
  {
   "cell_type": "code",
   "execution_count": null,
   "id": "fa56e380-8e96-4dc4-880e-ec78162513b5",
   "metadata": {},
   "outputs": [],
   "source": [
    "prefix = 'chorioamnionitis_imp'\n",
    "model_name = 'RandomForestClassifier'\n",
    "train_and_save_model(prefix, seed, models_and_params[model_name])"
   ]
  },
  {
   "cell_type": "code",
   "execution_count": null,
   "id": "8882b144-b034-4600-b297-d5ff3443ec67",
   "metadata": {},
   "outputs": [],
   "source": [
    "prefix = 'chorioamnionitis_imp'\n",
    "load_and_predict(prefix)"
   ]
  },
  {
   "cell_type": "markdown",
   "id": "cfbbaedd-8df8-41b1-b39b-e08eaa81908a",
   "metadata": {},
   "source": [
    "# Predictive modeling"
   ]
  },
  {
   "cell_type": "markdown",
   "id": "d24339ce-889c-4412-91c0-184e5f2652b8",
   "metadata": {},
   "source": [
    "## Model development"
   ]
  },
  {
   "cell_type": "markdown",
   "id": "16f60ef5-eb46-424c-9657-675aa46ebd17",
   "metadata": {},
   "source": [
    "### GA prediction"
   ]
  },
  {
   "cell_type": "code",
   "execution_count": null,
   "id": "660cbb17-969d-46e9-a024-2434d9b0f682",
   "metadata": {},
   "outputs": [],
   "source": [
    "prefix = 'ga_est'\n",
    "model_name = 'ElasticNet'\n",
    "neg_mse_scorer = make_scorer(mean_squared_error, greater_is_better=False)\n",
    "train_and_save_model(prefix, seed, models_and_params[model_name], cv=5, scoring=neg_mse_scorer, task = 'regression')"
   ]
  },
  {
   "cell_type": "code",
   "execution_count": null,
   "id": "aecef5be-5c91-4827-b59f-96bd2e4c4b89",
   "metadata": {},
   "outputs": [],
   "source": [
    "prefix = 'ga_est'\n",
    "load_and_predict(prefix)"
   ]
  },
  {
   "cell_type": "code",
   "execution_count": null,
   "id": "2643bcb3-7f67-47ef-befb-e363535ede41",
   "metadata": {},
   "outputs": [],
   "source": [
    "prefix = 'ga_est'\n",
    "save_model_coefficients(prefix)"
   ]
  },
  {
   "cell_type": "markdown",
   "id": "8903c2f1-c81e-4302-a55b-3f4b007e932c",
   "metadata": {},
   "source": [
    "### FGR prediction"
   ]
  },
  {
   "cell_type": "code",
   "execution_count": null,
   "id": "71985318-94d1-486c-b64e-7688c84eb679",
   "metadata": {},
   "outputs": [],
   "source": [
    "prefix = 'fgr_pred'\n",
    "model_name = 'LogisticElasticNet'\n",
    "custom_precision = make_scorer(precision_score, zero_division=0)\n",
    "train_and_save_model(prefix, seed, models_and_params[model_name], cv=5, scoring=custom_precision)"
   ]
  },
  {
   "cell_type": "code",
   "execution_count": null,
   "id": "8e49e8e2-2d4e-4d9c-beb0-2c2ce98d9e2c",
   "metadata": {},
   "outputs": [],
   "source": [
    "prefix = 'fgr_pred'\n",
    "load_and_predict_probabilities(prefix)"
   ]
  },
  {
   "cell_type": "code",
   "execution_count": null,
   "id": "fa56672b-ac91-453e-9a0b-87a5fbc42338",
   "metadata": {},
   "outputs": [],
   "source": [
    "prefix = 'fgr_pred'\n",
    "save_model_coefficients(prefix)"
   ]
  },
  {
   "cell_type": "markdown",
   "id": "320b29c6-3e64-4b4b-b133-10efcbbc1f82",
   "metadata": {},
   "source": [
    "### PE prediction"
   ]
  },
  {
   "cell_type": "code",
   "execution_count": null,
   "id": "0ce8b113-a2f8-44a2-9141-d65a099ce777",
   "metadata": {},
   "outputs": [],
   "source": [
    "prefix = 'pe_pred'\n",
    "model_name = 'LogisticElasticNet'\n",
    "custom_precision = make_scorer(precision_score, zero_division=0)\n",
    "train_and_save_model(prefix, seed, models_and_params[model_name], cv=5, scoring=custom_precision)"
   ]
  },
  {
   "cell_type": "code",
   "execution_count": null,
   "id": "b35016d6-1461-4959-a459-81a2eef4a90b",
   "metadata": {},
   "outputs": [],
   "source": [
    "prefix = 'pe_pred'\n",
    "load_and_predict_probabilities(prefix)"
   ]
  },
  {
   "cell_type": "code",
   "execution_count": null,
   "id": "03e8f5de-c68b-4461-a1de-0528ffb1c74c",
   "metadata": {},
   "outputs": [],
   "source": [
    "prefix = 'pe_pred'\n",
    "save_model_coefficients(prefix)"
   ]
  },
  {
   "cell_type": "markdown",
   "id": "6632b06f-d673-4049-9093-356dad0c9b8f",
   "metadata": {},
   "source": [
    "### PE onset prediction"
   ]
  },
  {
   "cell_type": "code",
   "execution_count": null,
   "id": "f66fac7b-2ca6-4fb3-a66c-4d9853a09274",
   "metadata": {},
   "outputs": [],
   "source": [
    "prefix = 'pe_onset_pred'\n",
    "model_name = 'LogisticElasticNet'\n",
    "custom_precision = make_scorer(precision_score, zero_division=0)\n",
    "train_and_save_model(prefix, seed, models_and_params[model_name], cv=5, scoring=custom_precision)"
   ]
  },
  {
   "cell_type": "code",
   "execution_count": null,
   "id": "99a4368d-ccf5-4fd4-bbb5-8d4b77802ed6",
   "metadata": {},
   "outputs": [],
   "source": [
    "prefix = 'pe_onset_pred'\n",
    "load_and_predict_probabilities(prefix)"
   ]
  },
  {
   "cell_type": "code",
   "execution_count": null,
   "id": "c41cfa19-4ad3-4bcd-81e3-e5e7ebbff815",
   "metadata": {},
   "outputs": [],
   "source": [
    "prefix = 'pe_onset_pred'\n",
    "save_model_coefficients(prefix)"
   ]
  },
  {
   "cell_type": "markdown",
   "id": "b0faf08e-9e25-41a5-88e2-a643d8d51e68",
   "metadata": {},
   "source": [
    "### HELLP prediction"
   ]
  },
  {
   "cell_type": "code",
   "execution_count": null,
   "id": "453a948a-df50-4908-8d63-6abbe895ed97",
   "metadata": {},
   "outputs": [],
   "source": [
    "prefix = 'hellp_pred'\n",
    "model_name = 'LogisticElasticNet'\n",
    "custom_precision = make_scorer(precision_score, zero_division=0)\n",
    "train_and_save_model(prefix, seed, models_and_params[model_name], cv=5, scoring=custom_precision)"
   ]
  },
  {
   "cell_type": "code",
   "execution_count": null,
   "id": "46c162ee-71f6-46b3-bb7c-697566cc7689",
   "metadata": {},
   "outputs": [],
   "source": [
    "prefix = 'hellp_pred'\n",
    "load_and_predict_probabilities(prefix)"
   ]
  },
  {
   "cell_type": "code",
   "execution_count": null,
   "id": "b8214386-887f-4081-a1a8-b8b0b7e0ad0a",
   "metadata": {},
   "outputs": [],
   "source": [
    "prefix = 'hellp_pred'\n",
    "save_model_coefficients(prefix)"
   ]
  },
  {
   "cell_type": "markdown",
   "id": "ee7939a7-7ac5-4201-ae98-6d9e1c65fd26",
   "metadata": {},
   "source": [
    "### Anencephaly prediction"
   ]
  },
  {
   "cell_type": "code",
   "execution_count": null,
   "id": "d9b4fc65-b422-415a-8491-661b9270b16a",
   "metadata": {},
   "outputs": [],
   "source": [
    "prefix = 'anencephaly_pred'\n",
    "model_name = 'LogisticElasticNet'\n",
    "custom_precision = make_scorer(precision_score, zero_division=0)\n",
    "train_and_save_model(prefix, seed, models_and_params[model_name], cv=5, scoring=custom_precision)"
   ]
  },
  {
   "cell_type": "code",
   "execution_count": null,
   "id": "73123852-4502-47d9-920a-94a6b30e3496",
   "metadata": {},
   "outputs": [],
   "source": [
    "prefix = 'anencephaly_pred'\n",
    "load_and_predict_probabilities(prefix)"
   ]
  },
  {
   "cell_type": "code",
   "execution_count": null,
   "id": "1f1e727a-a2d1-4de9-a203-1ea3535f4657",
   "metadata": {},
   "outputs": [],
   "source": [
    "prefix = 'anencephaly_pred'\n",
    "save_model_coefficients(prefix)"
   ]
  },
  {
   "cell_type": "markdown",
   "id": "3bcf60f3-bdb1-485e-8cb3-8943f9ff4db7",
   "metadata": {},
   "source": [
    "### Spina bifida prediction"
   ]
  },
  {
   "cell_type": "code",
   "execution_count": null,
   "id": "13dd82bb-68c3-4976-b704-5380678d711e",
   "metadata": {},
   "outputs": [],
   "source": [
    "prefix = 'spina_bifida_pred'\n",
    "model_name = 'LogisticElasticNet'\n",
    "custom_precision = make_scorer(precision_score, zero_division=0)\n",
    "train_and_save_model(prefix, seed, models_and_params[model_name], cv=5, scoring=custom_precision)"
   ]
  },
  {
   "cell_type": "code",
   "execution_count": null,
   "id": "57e225cc-dc93-41f7-aa73-2a26868b32d0",
   "metadata": {},
   "outputs": [],
   "source": [
    "prefix = 'spina_bifida_pred'\n",
    "load_and_predict_probabilities(prefix)"
   ]
  },
  {
   "cell_type": "code",
   "execution_count": null,
   "id": "afb2fc7f-ba84-4e90-bfee-50489266cf65",
   "metadata": {},
   "outputs": [],
   "source": [
    "prefix = 'spina_bifida_pred'\n",
    "save_model_coefficients(prefix)"
   ]
  },
  {
   "cell_type": "markdown",
   "id": "b606a1bd-700c-4ea7-a84d-a53420e50887",
   "metadata": {},
   "source": [
    "### Diandric triploid prediction"
   ]
  },
  {
   "cell_type": "code",
   "execution_count": null,
   "id": "68df38f1-b3c8-4ff3-94cc-612fc37cd4de",
   "metadata": {},
   "outputs": [],
   "source": [
    "prefix = 'diandric_triploid_pred'\n",
    "model_name = 'LogisticElasticNet'\n",
    "custom_precision = make_scorer(precision_score, zero_division=0)\n",
    "train_and_save_model(prefix, seed, models_and_params[model_name], cv=5, scoring=custom_precision)"
   ]
  },
  {
   "cell_type": "code",
   "execution_count": null,
   "id": "b7f64fd5-1fca-4112-9f04-2eab8a1e86e1",
   "metadata": {},
   "outputs": [],
   "source": [
    "prefix = 'diandric_triploid_pred'\n",
    "load_and_predict_probabilities(prefix)"
   ]
  },
  {
   "cell_type": "code",
   "execution_count": null,
   "id": "8a69b685-1a92-474a-804a-651e8dd39fd2",
   "metadata": {},
   "outputs": [],
   "source": [
    "prefix = 'diandric_triploid_pred'\n",
    "model_name = 'LogisticElasticNet'\n",
    "save_model_coefficients(prefix)"
   ]
  },
  {
   "cell_type": "markdown",
   "id": "5d254a69-4116-48ea-9312-e07171d6336a",
   "metadata": {},
   "source": [
    "### Miscarriage prediction"
   ]
  },
  {
   "cell_type": "code",
   "execution_count": null,
   "id": "f24ef42f-1ddb-4a84-8875-6b8382b70bf7",
   "metadata": {},
   "outputs": [],
   "source": [
    "prefix = 'miscarriage_pred'\n",
    "model_name = 'LogisticElasticNet'\n",
    "custom_precision = make_scorer(precision_score, zero_division=0)\n",
    "train_and_save_model(prefix, seed, models_and_params[model_name], cv=5, scoring=custom_precision)"
   ]
  },
  {
   "cell_type": "code",
   "execution_count": null,
   "id": "a82acd24-4865-4792-b842-978d7265880d",
   "metadata": {},
   "outputs": [],
   "source": [
    "prefix = 'miscarriage_pred'\n",
    "load_and_predict_probabilities(prefix)"
   ]
  },
  {
   "cell_type": "code",
   "execution_count": null,
   "id": "ca35d98b-8634-43f1-87bf-d5892cebba1c",
   "metadata": {},
   "outputs": [],
   "source": [
    "prefix = 'miscarriage_pred'\n",
    "save_model_coefficients(prefix)"
   ]
  },
  {
   "cell_type": "markdown",
   "id": "516d568b-05c2-4610-aef3-551f87ff6de1",
   "metadata": {},
   "source": [
    "### Preterm prediction"
   ]
  },
  {
   "cell_type": "code",
   "execution_count": null,
   "id": "a3ff2856-260b-41a3-b3f7-12db523ce4f3",
   "metadata": {},
   "outputs": [],
   "source": [
    "prefix = 'preterm_pred'\n",
    "model_name = 'LogisticElasticNet'\n",
    "custom_precision = make_scorer(precision_score, zero_division=0)\n",
    "train_and_save_model(prefix, seed, models_and_params[model_name], cv=5, scoring=custom_precision)"
   ]
  },
  {
   "cell_type": "code",
   "execution_count": null,
   "id": "f4a09364-9f6e-40af-8e33-e03bcb7dcb09",
   "metadata": {},
   "outputs": [],
   "source": [
    "prefix = 'preterm_pred'\n",
    "load_and_predict_probabilities(prefix)"
   ]
  },
  {
   "cell_type": "code",
   "execution_count": null,
   "id": "9ff4280f-0833-4700-be34-7058212d9139",
   "metadata": {},
   "outputs": [],
   "source": [
    "prefix = 'preterm_pred'\n",
    "save_model_coefficients(prefix)"
   ]
  },
  {
   "cell_type": "markdown",
   "id": "1d4c9e75-96ff-48ff-adcb-c675793860ec",
   "metadata": {},
   "source": [
    "### GDM prediction"
   ]
  },
  {
   "cell_type": "code",
   "execution_count": null,
   "id": "a0805f77-b7c6-4521-ae19-5cf5b66271d7",
   "metadata": {},
   "outputs": [],
   "source": [
    "prefix = 'gdm_pred'\n",
    "model_name = 'LogisticElasticNet'\n",
    "custom_precision = make_scorer(precision_score, zero_division=0)\n",
    "train_and_save_model(prefix, seed, models_and_params[model_name], cv=5, scoring=custom_precision)"
   ]
  },
  {
   "cell_type": "code",
   "execution_count": null,
   "id": "de8998cc-486a-4ee0-98d1-79bbc91caf83",
   "metadata": {},
   "outputs": [],
   "source": [
    "prefix = 'gdm_pred'\n",
    "load_and_predict_probabilities(prefix)"
   ]
  },
  {
   "cell_type": "code",
   "execution_count": null,
   "id": "a3db2b53-0885-4198-a84d-ac59cc7f4b06",
   "metadata": {},
   "outputs": [],
   "source": [
    "prefix = 'gdm_pred'\n",
    "save_model_coefficients(prefix)"
   ]
  },
  {
   "cell_type": "markdown",
   "id": "c03e6bb2-2f7a-46eb-923b-907b1f566e20",
   "metadata": {},
   "source": [
    "### LGA prediction"
   ]
  },
  {
   "cell_type": "code",
   "execution_count": null,
   "id": "dafb3903-f9bc-4c07-a3f1-a414f6d37c71",
   "metadata": {},
   "outputs": [],
   "source": [
    "prefix = 'lga_pred'\n",
    "model_name = 'LogisticElasticNet'\n",
    "custom_precision = make_scorer(precision_score, zero_division=0)\n",
    "train_and_save_model(prefix, seed, models_and_params[model_name], cv=5, scoring=custom_precision)"
   ]
  },
  {
   "cell_type": "code",
   "execution_count": null,
   "id": "700e2ea8-d24f-4437-81be-4f76b4459024",
   "metadata": {},
   "outputs": [],
   "source": [
    "prefix = 'lga_pred'\n",
    "load_and_predict_probabilities(prefix)"
   ]
  },
  {
   "cell_type": "code",
   "execution_count": null,
   "id": "6e722754-9a60-4cb3-a5d1-6ae58816ecfb",
   "metadata": {},
   "outputs": [],
   "source": [
    "prefix = 'lga_pred'\n",
    "save_model_coefficients(prefix)"
   ]
  },
  {
   "cell_type": "markdown",
   "id": "1ff76362-65fb-457a-9142-0fc492472f05",
   "metadata": {},
   "source": [
    "### Subfertility prediction"
   ]
  },
  {
   "cell_type": "code",
   "execution_count": null,
   "id": "73e768df-f328-4093-afc5-e21c17286931",
   "metadata": {},
   "outputs": [],
   "source": [
    "prefix = 'subfertility_pred'\n",
    "model_name = 'LogisticElasticNet'\n",
    "custom_precision = make_scorer(precision_score, zero_division=0)\n",
    "train_and_save_model(prefix, seed, models_and_params[model_name], cv=5, scoring=custom_precision)"
   ]
  },
  {
   "cell_type": "code",
   "execution_count": null,
   "id": "4749b616-2c57-4d14-b650-cf3114c443f1",
   "metadata": {},
   "outputs": [],
   "source": [
    "prefix = 'subfertility_pred'\n",
    "load_and_predict_probabilities(prefix)"
   ]
  },
  {
   "cell_type": "code",
   "execution_count": null,
   "id": "3e434a94-b819-4826-a3de-e6462405fd73",
   "metadata": {},
   "outputs": [],
   "source": [
    "prefix = 'subfertility_pred'\n",
    "save_model_coefficients(prefix)"
   ]
  },
  {
   "cell_type": "markdown",
   "id": "fa6eecf1-853d-4cf3-9715-03b8600253cb",
   "metadata": {},
   "source": [
    "### Chorioamnionitis prediction"
   ]
  },
  {
   "cell_type": "code",
   "execution_count": null,
   "id": "69afdc76-c098-4ed5-bc73-b57bff5dbe98",
   "metadata": {},
   "outputs": [],
   "source": [
    "prefix = 'chorioamnionitis_pred'\n",
    "model_name = 'LogisticElasticNet'\n",
    "custom_precision = make_scorer(precision_score, zero_division=0)\n",
    "train_and_save_model(prefix, seed, models_and_params[model_name], cv=5, scoring=custom_precision)"
   ]
  },
  {
   "cell_type": "code",
   "execution_count": null,
   "id": "94aa2c65-74ba-4eb2-8894-1557d104f430",
   "metadata": {},
   "outputs": [],
   "source": [
    "prefix = 'chorioamnionitis_pred'\n",
    "load_and_predict_probabilities(prefix)"
   ]
  },
  {
   "cell_type": "code",
   "execution_count": null,
   "id": "d2532a7a-0b4a-4bea-a3ea-800d07d9222c",
   "metadata": {},
   "outputs": [],
   "source": [
    "prefix = 'chorioamnionitis_pred'\n",
    "save_model_coefficients(prefix)"
   ]
  },
  {
   "cell_type": "markdown",
   "id": "a0acbeb0-3d31-459e-967c-61ced5fdbdc7",
   "metadata": {},
   "source": [
    "### GA res-full prediction"
   ]
  },
  {
   "cell_type": "markdown",
   "id": "06c82518-cdb1-46e1-9f39-46515ef2b71d",
   "metadata": {},
   "source": [
    "#### GA res-full random forest"
   ]
  },
  {
   "cell_type": "code",
   "execution_count": null,
   "id": "0e4d36b8-fae5-44b1-8c75-19ef78ec8803",
   "metadata": {},
   "outputs": [],
   "source": [
    "prefix = 'ga_resfull_rf_est'\n",
    "model_name = 'RandomForestRegressor'\n",
    "neg_mse_scorer = make_scorer(mean_squared_error, greater_is_better=False)\n",
    "train_and_save_model(prefix, seed, models_and_params[model_name], cv=5, scoring=neg_mse_scorer, task = 'regression')"
   ]
  },
  {
   "cell_type": "code",
   "execution_count": null,
   "id": "8bda5545-3103-48a6-9428-9fd5a71d0183",
   "metadata": {},
   "outputs": [],
   "source": [
    "prefix = 'ga_resfull_rf_est'\n",
    "load_and_predict(prefix)"
   ]
  },
  {
   "cell_type": "markdown",
   "id": "8dc99d20-98d4-4fb1-95ef-7f82a6807140",
   "metadata": {},
   "source": [
    "### GA res-conds prediction"
   ]
  },
  {
   "cell_type": "code",
   "execution_count": null,
   "id": "73f644b0-7b46-466e-8974-f5314086ce70",
   "metadata": {},
   "outputs": [],
   "source": [
    "prefix = 'ga_res_conds_fgr_est'\n",
    "model_name = 'ElasticNet'\n",
    "neg_mse_scorer = make_scorer(mean_squared_error, greater_is_better=False)\n",
    "train_and_save_model(prefix, seed, models_and_params[model_name], cv=5, scoring=neg_mse_scorer, task = 'regression')"
   ]
  },
  {
   "cell_type": "code",
   "execution_count": null,
   "id": "6ad3dfc9-859f-4e50-9e9a-9ed353fac4a2",
   "metadata": {},
   "outputs": [],
   "source": [
    "prefix = 'ga_res_conds_fgr_est'\n",
    "model_name = 'ElasticNet'\n",
    "load_and_predict(prefix)"
   ]
  },
  {
   "cell_type": "code",
   "execution_count": null,
   "id": "66d147db-ceaa-4a66-a32c-5d4868f99f95",
   "metadata": {},
   "outputs": [],
   "source": [
    "prefix = 'ga_res_conds_fgr_est'\n",
    "model_name = 'ElasticNet'\n",
    "save_model_coefficients(prefix)"
   ]
  },
  {
   "cell_type": "code",
   "execution_count": null,
   "id": "b5fbe528-95ea-4577-9701-1a9f22782da8",
   "metadata": {},
   "outputs": [],
   "source": [
    "prefix = 'ga_res_conds_pe_est'\n",
    "model_name = 'ElasticNet'\n",
    "neg_mse_scorer = make_scorer(mean_squared_error, greater_is_better=False)\n",
    "train_and_save_model(prefix, seed, models_and_params[model_name], cv=5, scoring=neg_mse_scorer, task = 'regression')"
   ]
  },
  {
   "cell_type": "code",
   "execution_count": null,
   "id": "f3b76711-b5d6-4c1c-96bd-fed2578f2c21",
   "metadata": {},
   "outputs": [],
   "source": [
    "prefix = 'ga_res_conds_pe_est'\n",
    "model_name = 'ElasticNet'\n",
    "load_and_predict(prefix)"
   ]
  },
  {
   "cell_type": "code",
   "execution_count": null,
   "id": "4707f0e7-974d-4072-8c9d-6bc3c3a906b8",
   "metadata": {},
   "outputs": [],
   "source": [
    "prefix = 'ga_res_conds_pe_est'\n",
    "model_name = 'ElasticNet'\n",
    "save_model_coefficients(prefix)"
   ]
  },
  {
   "cell_type": "code",
   "execution_count": null,
   "id": "6ad04136-31d4-491d-9bcc-3af810b0500f",
   "metadata": {},
   "outputs": [],
   "source": [
    "prefix = 'ga_res_conds_pe_onset_est'\n",
    "model_name = 'ElasticNet'\n",
    "neg_mse_scorer = make_scorer(mean_squared_error, greater_is_better=False)\n",
    "train_and_save_model(prefix, seed, models_and_params[model_name], cv=5, scoring=neg_mse_scorer, task = 'regression')"
   ]
  },
  {
   "cell_type": "code",
   "execution_count": null,
   "id": "c5dfd41b-960d-490e-9bd1-53eef2320ba8",
   "metadata": {},
   "outputs": [],
   "source": [
    "prefix = 'ga_res_conds_pe_onset_est'\n",
    "model_name = 'ElasticNet'\n",
    "load_and_predict(prefix)"
   ]
  },
  {
   "cell_type": "code",
   "execution_count": null,
   "id": "55294be8-f2e5-4d76-a6e0-14c1cdfa48f5",
   "metadata": {},
   "outputs": [],
   "source": [
    "prefix = 'ga_res_conds_pe_onset_est'\n",
    "model_name = 'ElasticNet'\n",
    "save_model_coefficients(prefix)"
   ]
  },
  {
   "cell_type": "code",
   "execution_count": null,
   "id": "2d4a11eb-41e4-44ac-a8e7-317286c112ec",
   "metadata": {},
   "outputs": [],
   "source": [
    "prefix = 'ga_res_conds_hellp_est'\n",
    "model_name = 'ElasticNet'\n",
    "neg_mse_scorer = make_scorer(mean_squared_error, greater_is_better=False)\n",
    "train_and_save_model(prefix, seed, models_and_params[model_name], cv=5, scoring=neg_mse_scorer, task = 'regression')"
   ]
  },
  {
   "cell_type": "code",
   "execution_count": null,
   "id": "76170891-b0e8-4d9a-ad69-a50219eb9ee8",
   "metadata": {},
   "outputs": [],
   "source": [
    "prefix = 'ga_res_conds_hellp_est'\n",
    "model_name = 'ElasticNet'\n",
    "load_and_predict(prefix)"
   ]
  },
  {
   "cell_type": "code",
   "execution_count": null,
   "id": "c0df3e3b-9d9c-4a95-a2a4-1b35d29fa80a",
   "metadata": {},
   "outputs": [],
   "source": [
    "prefix = 'ga_res_conds_hellp_est'\n",
    "model_name = 'ElasticNet'\n",
    "save_model_coefficients(prefix)"
   ]
  },
  {
   "cell_type": "code",
   "execution_count": null,
   "id": "63f2a40e-9f94-43e0-a18f-c40002002bb9",
   "metadata": {},
   "outputs": [],
   "source": [
    "prefix = 'ga_res_conds_anencephaly_est'\n",
    "model_name = 'ElasticNet'\n",
    "neg_mse_scorer = make_scorer(mean_squared_error, greater_is_better=False)\n",
    "train_and_save_model(prefix, seed, models_and_params[model_name], cv=5, scoring=neg_mse_scorer, task = 'regression')"
   ]
  },
  {
   "cell_type": "code",
   "execution_count": null,
   "id": "a7e6962c-4c41-4da4-bcf2-78718ccff7c0",
   "metadata": {},
   "outputs": [],
   "source": [
    "prefix = 'ga_res_conds_anencephaly_est'\n",
    "model_name = 'ElasticNet'\n",
    "load_and_predict(prefix)"
   ]
  },
  {
   "cell_type": "code",
   "execution_count": null,
   "id": "ae5e22b2-be2a-4124-bf31-1e67bdd7c6a6",
   "metadata": {},
   "outputs": [],
   "source": [
    "prefix = 'ga_res_conds_anencephaly_est'\n",
    "model_name = 'ElasticNet'\n",
    "save_model_coefficients(prefix)"
   ]
  },
  {
   "cell_type": "code",
   "execution_count": null,
   "id": "6a3c2b09-8828-4467-8f4a-34351eae6b8e",
   "metadata": {},
   "outputs": [],
   "source": [
    "prefix = 'ga_res_conds_spina_bifida_est'\n",
    "model_name = 'ElasticNet'\n",
    "neg_mse_scorer = make_scorer(mean_squared_error, greater_is_better=False)\n",
    "train_and_save_model(prefix, seed, models_and_params[model_name], cv=5, scoring=neg_mse_scorer, task = 'regression')"
   ]
  },
  {
   "cell_type": "code",
   "execution_count": null,
   "id": "00f45758-0433-4e0a-b8ea-e7ebe02c3440",
   "metadata": {},
   "outputs": [],
   "source": [
    "prefix = 'ga_res_conds_spina_bifida_est'\n",
    "model_name = 'ElasticNet'\n",
    "load_and_predict(prefix)"
   ]
  },
  {
   "cell_type": "code",
   "execution_count": null,
   "id": "47196f20-a228-4304-8fe8-831184fff6a2",
   "metadata": {},
   "outputs": [],
   "source": [
    "prefix = 'ga_res_conds_spina_bifida_est'\n",
    "model_name = 'ElasticNet'\n",
    "save_model_coefficients(prefix)"
   ]
  },
  {
   "cell_type": "code",
   "execution_count": null,
   "id": "2db87d1a-c3c4-4432-8fba-adb3447b833f",
   "metadata": {},
   "outputs": [],
   "source": [
    "prefix = 'ga_res_conds_diandric_triploid_est'\n",
    "model_name = 'ElasticNet'\n",
    "neg_mse_scorer = make_scorer(mean_squared_error, greater_is_better=False)\n",
    "train_and_save_model(prefix, seed, models_and_params[model_name], cv=3, scoring=neg_mse_scorer, task = 'regression')"
   ]
  },
  {
   "cell_type": "code",
   "execution_count": null,
   "id": "479f85b4-7507-40e6-b059-cb515d0e2263",
   "metadata": {},
   "outputs": [],
   "source": [
    "prefix = 'ga_res_conds_diandric_triploid_est'\n",
    "model_name = 'ElasticNet'\n",
    "load_and_predict(prefix)"
   ]
  },
  {
   "cell_type": "code",
   "execution_count": null,
   "id": "eb665f5a-9e68-4393-8bbd-5ab6e75007bf",
   "metadata": {},
   "outputs": [],
   "source": [
    "prefix = 'ga_res_conds_diandric_triploid_est'\n",
    "model_name = 'ElasticNet'\n",
    "save_model_coefficients(prefix)"
   ]
  },
  {
   "cell_type": "code",
   "execution_count": null,
   "id": "5c4a963b-d0d2-4404-80eb-675cc364fddf",
   "metadata": {},
   "outputs": [],
   "source": [
    "prefix = 'ga_res_conds_miscarriage_est'\n",
    "model_name = 'ElasticNet'\n",
    "neg_mse_scorer = make_scorer(mean_squared_error, greater_is_better=False)\n",
    "train_and_save_model(prefix, seed, models_and_params[model_name], cv=3, scoring=neg_mse_scorer, task = 'regression')"
   ]
  },
  {
   "cell_type": "code",
   "execution_count": null,
   "id": "c535e162-892d-4dab-8d4f-4c4ab1538329",
   "metadata": {},
   "outputs": [],
   "source": [
    "prefix = 'ga_res_conds_miscarriage_est'\n",
    "model_name = 'ElasticNet'\n",
    "load_and_predict(prefix)"
   ]
  },
  {
   "cell_type": "code",
   "execution_count": null,
   "id": "628872f2-20d6-48da-b16c-39d3e4889b70",
   "metadata": {},
   "outputs": [],
   "source": [
    "prefix = 'ga_res_conds_miscarriage_est'\n",
    "model_name = 'ElasticNet'\n",
    "save_model_coefficients(prefix)"
   ]
  },
  {
   "cell_type": "code",
   "execution_count": null,
   "id": "30fa9b11-f6fb-49f8-856e-6f4240e2d6ad",
   "metadata": {},
   "outputs": [],
   "source": [
    "prefix = 'ga_res_conds_preterm_est'\n",
    "model_name = 'ElasticNet'\n",
    "neg_mse_scorer = make_scorer(mean_squared_error, greater_is_better=False)\n",
    "train_and_save_model(prefix, seed, models_and_params[model_name], cv=5, scoring=neg_mse_scorer, task = 'regression')"
   ]
  },
  {
   "cell_type": "code",
   "execution_count": null,
   "id": "a71e9b6b-21fb-4b26-9fc9-5752b29c94c8",
   "metadata": {},
   "outputs": [],
   "source": [
    "prefix = 'ga_res_conds_preterm_est'\n",
    "model_name = 'ElasticNet'\n",
    "load_and_predict(prefix)"
   ]
  },
  {
   "cell_type": "code",
   "execution_count": null,
   "id": "7b32925f-a804-427b-95aa-faaa151b3db0",
   "metadata": {},
   "outputs": [],
   "source": [
    "prefix = 'ga_res_conds_preterm_est'\n",
    "model_name = 'ElasticNet'\n",
    "save_model_coefficients(prefix)"
   ]
  },
  {
   "cell_type": "code",
   "execution_count": null,
   "id": "8977edc4-a6c7-47a1-9e14-d8cf57d6c846",
   "metadata": {},
   "outputs": [],
   "source": [
    "prefix = 'ga_res_conds_gdm_est'\n",
    "model_name = 'ElasticNet'\n",
    "neg_mse_scorer = make_scorer(mean_squared_error, greater_is_better=False)\n",
    "train_and_save_model(prefix, seed, models_and_params[model_name], cv=5, scoring=neg_mse_scorer, task = 'regression')"
   ]
  },
  {
   "cell_type": "code",
   "execution_count": null,
   "id": "29932361-7ed6-468f-ab49-430efb9e5c5f",
   "metadata": {},
   "outputs": [],
   "source": [
    "prefix = 'ga_res_conds_gdm_est'\n",
    "model_name = 'ElasticNet'\n",
    "load_and_predict(prefix)"
   ]
  },
  {
   "cell_type": "code",
   "execution_count": null,
   "id": "f768926e-92e5-4ab5-bc3c-8309cf798e6e",
   "metadata": {},
   "outputs": [],
   "source": [
    "prefix = 'ga_res_conds_gdm_est'\n",
    "model_name = 'ElasticNet'\n",
    "save_model_coefficients(prefix)"
   ]
  },
  {
   "cell_type": "code",
   "execution_count": null,
   "id": "f52cc909-2edf-430d-9c96-7d8d0f4087e3",
   "metadata": {},
   "outputs": [],
   "source": [
    "prefix = 'ga_res_conds_lga_est'\n",
    "model_name = 'ElasticNet'\n",
    "neg_mse_scorer = make_scorer(mean_squared_error, greater_is_better=False)\n",
    "train_and_save_model(prefix, seed, models_and_params[model_name], cv=5, scoring=neg_mse_scorer, task = 'regression')"
   ]
  },
  {
   "cell_type": "code",
   "execution_count": null,
   "id": "46de3d78-2fc0-4763-adc6-026df119fd88",
   "metadata": {},
   "outputs": [],
   "source": [
    "prefix = 'ga_res_conds_lga_est'\n",
    "model_name = 'ElasticNet'\n",
    "load_and_predict(prefix)"
   ]
  },
  {
   "cell_type": "code",
   "execution_count": null,
   "id": "bdd14019-05fe-4d3b-b06f-2fa5e5c34b18",
   "metadata": {},
   "outputs": [],
   "source": [
    "prefix = 'ga_res_conds_lga_est'\n",
    "model_name = 'ElasticNet'\n",
    "save_model_coefficients(prefix)"
   ]
  },
  {
   "cell_type": "code",
   "execution_count": null,
   "id": "483723dd-6aa6-4ffd-bcf3-3bdaee358a4b",
   "metadata": {},
   "outputs": [],
   "source": [
    "prefix = 'ga_res_conds_subfertility_est'\n",
    "model_name = 'ElasticNet'\n",
    "neg_mse_scorer = make_scorer(mean_squared_error, greater_is_better=False)\n",
    "train_and_save_model(prefix, seed, models_and_params[model_name], cv=5, scoring=neg_mse_scorer, task = 'regression')"
   ]
  },
  {
   "cell_type": "code",
   "execution_count": null,
   "id": "267df3ce-8ea0-4b3d-877c-be754f0b467a",
   "metadata": {},
   "outputs": [],
   "source": [
    "prefix = 'ga_res_conds_subfertility_est'\n",
    "model_name = 'ElasticNet'\n",
    "load_and_predict(prefix)"
   ]
  },
  {
   "cell_type": "code",
   "execution_count": null,
   "id": "7ed77a6d-f88d-42e4-bfe7-b15d1d4777de",
   "metadata": {},
   "outputs": [],
   "source": [
    "prefix = 'ga_res_conds_subfertility_est'\n",
    "model_name = 'ElasticNet'\n",
    "save_model_coefficients(prefix)"
   ]
  },
  {
   "cell_type": "code",
   "execution_count": null,
   "id": "f8dbea52-b7f6-4244-84f6-ff4ff0236b8f",
   "metadata": {},
   "outputs": [],
   "source": [
    "prefix = 'ga_res_conds_chorioamnionitis_est'\n",
    "model_name = 'ElasticNet'\n",
    "neg_mse_scorer = make_scorer(mean_squared_error, greater_is_better=False)\n",
    "train_and_save_model(prefix, seed, models_and_params[model_name], cv=5, scoring=neg_mse_scorer, task = 'regression')"
   ]
  },
  {
   "cell_type": "code",
   "execution_count": null,
   "id": "5714a77d-e26a-4bf3-b65a-3fefe777fb34",
   "metadata": {},
   "outputs": [],
   "source": [
    "prefix = 'ga_res_conds_chorioamnionitis_est'\n",
    "model_name = 'ElasticNet'\n",
    "load_and_predict(prefix)"
   ]
  },
  {
   "cell_type": "code",
   "execution_count": null,
   "id": "a369edd3-81bd-4b9a-a283-c4bc9973ac08",
   "metadata": {},
   "outputs": [],
   "source": [
    "prefix = 'ga_res_conds_chorioamnionitis_est'\n",
    "model_name = 'ElasticNet'\n",
    "save_model_coefficients(prefix)"
   ]
  },
  {
   "cell_type": "code",
   "execution_count": null,
   "id": "111785ce-7700-46f8-afba-9d6ea3f9a175",
   "metadata": {},
   "outputs": [],
   "source": [
    "prefix = 'ga_res_conds_pred_est'\n",
    "model_name = 'ElasticNet'\n",
    "neg_mse_scorer = make_scorer(mean_squared_error, greater_is_better=False)\n",
    "train_and_save_model(prefix, seed, models_and_params[model_name], cv=5, scoring=neg_mse_scorer, task = 'regression')"
   ]
  },
  {
   "cell_type": "code",
   "execution_count": null,
   "id": "61d8775f-5d0f-4d84-b68b-d504923e68dd",
   "metadata": {},
   "outputs": [],
   "source": [
    "prefix = 'ga_res_conds_pred_est'\n",
    "model_name = 'ElasticNet'\n",
    "load_and_predict(prefix)"
   ]
  },
  {
   "cell_type": "markdown",
   "id": "f6079998-a9d1-4a82-acaf-68841a7f1499",
   "metadata": {},
   "source": [
    "### GA res-comb prediction"
   ]
  },
  {
   "cell_type": "code",
   "execution_count": null,
   "id": "4530016e-1a5c-4df4-b856-fa0167262483",
   "metadata": {},
   "outputs": [],
   "source": [
    "prefix = 'ga_res_comb_pr_est'\n",
    "model_name = 'ElasticNet'\n",
    "neg_mse_scorer = make_scorer(mean_squared_error, greater_is_better=False)\n",
    "train_and_save_model(prefix, seed, models_and_params[model_name], cv=5, scoring=neg_mse_scorer, task = 'regression')"
   ]
  },
  {
   "cell_type": "code",
   "execution_count": null,
   "id": "84dc9767-7a0b-4614-a357-24da130d8e08",
   "metadata": {},
   "outputs": [],
   "source": [
    "prefix = 'ga_res_comb_pr_est'\n",
    "model_name = 'ElasticNet'\n",
    "load_and_predict(prefix)"
   ]
  },
  {
   "cell_type": "code",
   "execution_count": null,
   "id": "967711e9-8dd9-42ef-821d-f6fbce12f194",
   "metadata": {},
   "outputs": [],
   "source": [
    "prefix = 'ga_res_comb_pr_est'\n",
    "model_name = 'ElasticNet'\n",
    "save_model_coefficients(prefix)"
   ]
  },
  {
   "cell_type": "code",
   "execution_count": null,
   "id": "44ff6da3-63c4-4b99-b281-67b24c254643",
   "metadata": {
    "scrolled": true
   },
   "outputs": [],
   "source": [
    "prefix = 'ga_res_comb_tb_est'\n",
    "model_name = 'ElasticNet'\n",
    "neg_mse_scorer = make_scorer(mean_squared_error, greater_is_better=False)\n",
    "train_and_save_model(prefix, seed, models_and_params[model_name], cv=5, scoring=neg_mse_scorer, task = 'regression')"
   ]
  },
  {
   "cell_type": "code",
   "execution_count": null,
   "id": "30e7dfa0-dcc2-44e6-a94e-ec6786e0d77e",
   "metadata": {},
   "outputs": [],
   "source": [
    "prefix = 'ga_res_comb_tb_est'\n",
    "model_name = 'ElasticNet'\n",
    "load_and_predict(prefix)"
   ]
  },
  {
   "cell_type": "code",
   "execution_count": null,
   "id": "933d35fd-1bee-42e1-9b4f-413980f8c6ec",
   "metadata": {},
   "outputs": [],
   "source": [
    "prefix = 'ga_res_comb_tb_est'\n",
    "model_name = 'ElasticNet'\n",
    "save_model_coefficients(prefix)"
   ]
  },
  {
   "cell_type": "code",
   "execution_count": null,
   "id": "02c11a02-55c2-4c46-992d-536f5c44973e",
   "metadata": {},
   "outputs": [],
   "source": [
    "prefix = 'ga_res_comb_ta_est'\n",
    "model_name = 'ElasticNet'\n",
    "neg_mse_scorer = make_scorer(mean_squared_error, greater_is_better=False)\n",
    "train_and_save_model(prefix, seed, models_and_params[model_name], cv=5, scoring=neg_mse_scorer, task = 'regression')"
   ]
  },
  {
   "cell_type": "code",
   "execution_count": null,
   "id": "f2dfed89-e63e-42af-9436-8f79afb501fd",
   "metadata": {},
   "outputs": [],
   "source": [
    "prefix = 'ga_res_comb_ta_est'\n",
    "model_name = 'ElasticNet'\n",
    "load_and_predict(prefix)"
   ]
  },
  {
   "cell_type": "code",
   "execution_count": null,
   "id": "9aa95db0-f67e-4922-bd8b-25935d81d248",
   "metadata": {},
   "outputs": [],
   "source": [
    "prefix = 'ga_res_comb_ta_est'\n",
    "model_name = 'ElasticNet'\n",
    "save_model_coefficients(prefix)"
   ]
  }
 ],
 "metadata": {
  "kernelspec": {
   "display_name": "Python 3 (ipykernel)",
   "language": "python",
   "name": "python3"
  },
  "language_info": {
   "codemirror_mode": {
    "name": "ipython",
    "version": 3
   },
   "file_extension": ".py",
   "mimetype": "text/x-python",
   "name": "python",
   "nbconvert_exporter": "python",
   "pygments_lexer": "ipython3",
   "version": "3.12.4"
  }
 },
 "nbformat": 4,
 "nbformat_minor": 5
}
